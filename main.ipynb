{
 "cells": [
  {
   "cell_type": "code",
   "execution_count": 3,
   "metadata": {},
   "outputs": [
    {
     "name": "stderr",
     "output_type": "stream",
     "text": [
      "[nltk_data] Downloading package stopwords to /home/dnlab/nltk_data...\n",
      "[nltk_data]   Package stopwords is already up-to-date!\n"
     ]
    },
    {
     "data": {
      "text/plain": [
       "True"
      ]
     },
     "execution_count": 3,
     "metadata": {},
     "output_type": "execute_result"
    }
   ],
   "source": [
    "import nltk\n",
    "import os\n",
    "import re\n",
    "from nltk.stem import PorterStemmer\n",
    "from nltk.corpus import stopwords\n",
    "from tqdm import tqdm\n",
    "\n",
    "nltk.download('stopwords')"
   ]
  },
  {
   "cell_type": "code",
   "execution_count": 4,
   "metadata": {},
   "outputs": [],
   "source": [
    "def preprocess(doc):\n",
    "    # Remove punctuations and numbers\n",
    "    doc = re.sub(r'[^\\w\\s]', '', doc)\n",
    "    doc = re.sub(r'\\d+', '', doc)\n",
    "    # Normalization\n",
    "    doc = doc.lower()\n",
    "    # Tokenization\n",
    "    tokens = doc.split()\n",
    "    # Stop words removal\n",
    "    stop_words = set(stopwords.words('english'))\n",
    "    filtered_tokens = [word for word in tokens if word not in stop_words]\n",
    "    # Stemming\n",
    "    ps = PorterStemmer() \n",
    "    terms = []\n",
    "    for word in filtered_tokens:\n",
    "        terms.append(ps.stem(word))\n",
    "    doc = ' '.join(terms)\n",
    "    return doc\n",
    "\n",
    "\n",
    "def build_inverted_index(dir_path):\n",
    "    inverted_index = {}\n",
    "    doc_id = 0\n",
    "    for dir, _, filename in os.walk(dir_path):\n",
    "        for file in tqdm(filename):\n",
    "            # The script crashes processing .lws files\n",
    "            if file.endswith('.swp'):\n",
    "                continue\n",
    "            with open(os.path.join(dir, file), 'r', encoding='latin-1') as f:\n",
    "                # print(f\"processing: {f}\")\n",
    "                doc = f.read()\n",
    "            doc = preprocess(doc)\n",
    "            # Split the document into terms\n",
    "            terms = doc.split()\n",
    "            for term in terms:\n",
    "                if term not in inverted_index:\n",
    "                    inverted_index[term] = []\n",
    "                if doc_id not in inverted_index[term]:\n",
    "                    inverted_index[term].append(doc_id)\n",
    "            doc_id += 1\n",
    "    return inverted_index\n"
   ]
  },
  {
   "cell_type": "code",
   "execution_count": 5,
   "metadata": {},
   "outputs": [
    {
     "name": "stderr",
     "output_type": "stream",
     "text": [
      "100%|██████████| 452/452 [00:21<00:00, 21.39it/s]\n",
      "100%|██████████| 5/5 [00:00<00:00, 441.19it/s]\n",
      "100%|██████████| 19/19 [00:00<00:00, 22.74it/s]\n"
     ]
    }
   ],
   "source": [
    "dataset = '/home/dnlab/Desktop/stories'\n",
    "inverted_index = build_inverted_index(dataset)"
   ]
  },
  {
   "cell_type": "code",
   "execution_count": 6,
   "metadata": {},
   "outputs": [],
   "source": [
    "import json\n",
    "\n",
    "with open('inverted_index.json', 'w') as f:\n",
    "    json.dump(inverted_index, f)\n"
   ]
  },
  {
   "cell_type": "code",
   "execution_count": 7,
   "metadata": {},
   "outputs": [],
   "source": [
    "# load the inverted index from the json file to avoid running the entire script\n",
    "with open('inverted_index.json', 'r') as f:\n",
    "    inverted_index = json.load(f)\n"
   ]
  },
  {
   "cell_type": "code",
   "execution_count": 8,
   "metadata": {},
   "outputs": [
    {
     "name": "stdout",
     "output_type": "stream",
     "text": [
      "{0, 298, 149, 407, 410}\n"
     ]
    }
   ],
   "source": [
    "def boolean_query_and(term1, term2, inverted_index):\n",
    "    docs_list1 = set(inverted_index[term1]) if term1 in inverted_index else set()\n",
    "    docs_list2 = set(inverted_index[term2]) if term2 in inverted_index else set()\n",
    "    result = docs_list1.intersection(docs_list2)\n",
    "    return result\n",
    "\n",
    "\n",
    "term1 = 'ben'\n",
    "term2 = 'june'\n",
    "\n",
    "and_query = boolean_query_and(term1=term1, term2=term2, inverted_index=inverted_index)\n",
    "print(and_query)"
   ]
  },
  {
   "cell_type": "code",
   "execution_count": 9,
   "metadata": {},
   "outputs": [
    {
     "name": "stdout",
     "output_type": "stream",
     "text": [
      "{0, 128, 141, 17, 149, 21, 407, 151, 410, 284, 290, 36, 422, 167, 298, 53, 186, 315, 59, 66, 327, 74, 75, 81, 85, 344, 225, 109, 237, 377, 123, 125, 126}\n"
     ]
    }
   ],
   "source": [
    "def boolean_query_or(term1, term2, inverted_index):\n",
    "    docs_list1 = set(inverted_index[term1]) if term1 in inverted_index else set()\n",
    "    docs_list2 = set(inverted_index[term2]) if term2 in inverted_index else set()\n",
    "    result_docs = docs_list1.union(docs_list2)\n",
    "    return result_docs\n",
    "\n",
    "\n",
    "term1 = 'ben'\n",
    "term2 = 'june'\n",
    "\n",
    "or_query = boolean_query_or(term1=term1, term2=term2, inverted_index=inverted_index)\n",
    "print(or_query)\n"
   ]
  },
  {
   "cell_type": "code",
   "execution_count": 10,
   "metadata": {},
   "outputs": [
    {
     "name": "stdout",
     "output_type": "stream",
     "text": [
      "{128, 225, 66, 36, 75, 123, 109, 141, 17, 85, 344, 315}\n"
     ]
    }
   ],
   "source": [
    "def boolean_query_and_not(term1, term2, inverted_index):\n",
    "    docs_list1 = set(inverted_index[term1]) if term1 in inverted_index else set()\n",
    "    docs_list2 = set(inverted_index[term2]) if term2 in inverted_index else set()\n",
    "    result_docs = docs_list1.difference(docs_list2)\n",
    "    return result_docs\n",
    "\n",
    "\n",
    "term1 = 'ben'\n",
    "term2 = 'june'\n",
    "\n",
    "and_not_query = boolean_query_and_not(term1=term1, term2=term2, inverted_index=inverted_index)\n",
    "print(and_not_query)\n"
   ]
  },
  {
   "cell_type": "code",
   "execution_count": 12,
   "metadata": {},
   "outputs": [
    {
     "name": "stdout",
     "output_type": "stream",
     "text": [
      "{128, 225, 66, 36, 75, 141, 109, 17, 315, 85, 344, 123}\n"
     ]
    }
   ],
   "source": [
    "def boolean_query_or_not(term1, term2, term3, inverted_index):\n",
    "    # Retrieve the document IDs for each term in the query\n",
    "    docs_list1 = set(inverted_index[term1]) if term1 in inverted_index else set()\n",
    "    docs_list2 = set(inverted_index[term2]) if term2 in inverted_index else set()\n",
    "    docs_list3 = set(inverted_index[term3]) if term3 in inverted_index else set()\n",
    "    # Compute the union of the document IDs for term1 and term2, and subtract the document IDs for term3\n",
    "    result_docs = docs_list1.union(docs_list2) - docs_list3\n",
    "    return result_docs\n",
    "\n",
    "\n",
    "term1 = 'ben'\n",
    "term2 = 'adler'\n",
    "term3 = 'june'\n",
    "or_not_query = boolean_query_or_not(term1, term2, term3, inverted_index)\n",
    "print(or_not_query)\n"
   ]
  },
  {
   "cell_type": "code",
   "execution_count": 14,
   "metadata": {},
   "outputs": [],
   "source": [
    "# Ranked retrieval\n",
    "from collections import Counter\n",
    "from math import log10\n",
    "\n",
    "def taat_ranked_retrieval(query, inverted_index, k=10):\n",
    "    # Tokenize the query\n",
    "    query_terms = preprocess(query).split()\n",
    "    scores = {}\n",
    "    for term in query_terms:\n",
    "        if term not in inverted_index:\n",
    "            continue\n",
    "        # Retrieve postings list for the term\n",
    "        postings = inverted_index[term]\n",
    "        # Compute TF scores for each document\n",
    "        tf_scores = Counter(postings)\n",
    "        # Compute IDF score for the term\n",
    "        idf_score = log10(len(inverted_index) / len(postings))\n",
    "        # Compute the product of TF and IDF scores for each document\n",
    "        for doc_id in tf_scores:\n",
    "            if doc_id not in scores:\n",
    "                scores[doc_id] = 0\n",
    "            scores[doc_id] += tf_scores[doc_id] * idf_score\n",
    "    # Sort documents by their scores in descending order\n",
    "    ranked_docs = sorted(scores.items(), key=lambda x: x[1], reverse=True)[:k]\n",
    "    return [doc_id for doc_id, score in ranked_docs]\n"
   ]
  },
  {
   "cell_type": "code",
   "execution_count": 17,
   "metadata": {},
   "outputs": [
    {
     "name": "stdout",
     "output_type": "stream",
     "text": [
      "[1, 5, 17, 38, 53, 60, 63, 78, 114, 128]\n"
     ]
    }
   ],
   "source": [
    "taat_retrieval = taat_ranked_retrieval(query='rattling through the silent streets', inverted_index=inverted_index)\n",
    "\n",
    "print(taat_retrieval)"
   ]
  },
  {
   "cell_type": "code",
   "execution_count": null,
   "metadata": {},
   "outputs": [],
   "source": []
  }
 ],
 "metadata": {
  "kernelspec": {
   "display_name": "base",
   "language": "python",
   "name": "python3"
  },
  "language_info": {
   "codemirror_mode": {
    "name": "ipython",
    "version": 3
   },
   "file_extension": ".py",
   "mimetype": "text/x-python",
   "name": "python",
   "nbconvert_exporter": "python",
   "pygments_lexer": "ipython3",
   "version": "3.9.13"
  },
  "orig_nbformat": 4
 },
 "nbformat": 4,
 "nbformat_minor": 2
}
