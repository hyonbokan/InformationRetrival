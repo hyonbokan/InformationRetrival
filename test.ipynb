{
 "cells": [
  {
   "cell_type": "code",
   "execution_count": 3,
   "metadata": {},
   "outputs": [
    {
     "name": "stderr",
     "output_type": "stream",
     "text": [
      "[nltk_data] Downloading package stopwords to /home/dnlab/nltk_data...\n",
      "[nltk_data]   Unzipping corpora/stopwords.zip.\n"
     ]
    },
    {
     "data": {
      "text/plain": [
       "True"
      ]
     },
     "execution_count": 3,
     "metadata": {},
     "output_type": "execute_result"
    }
   ],
   "source": [
    "import nltk\n",
    "import os\n",
    "import re\n",
    "from nltk.stem import PorterStemmer\n",
    "from nltk.corpus import stopwords\n",
    "from tqdm import tqdm\n",
    "\n",
    "nltk.download('stopwords')"
   ]
  },
  {
   "cell_type": "code",
   "execution_count": 4,
   "metadata": {},
   "outputs": [],
   "source": [
    "\n",
    "def preprocess(doc):\n",
    "    # Remove punctuations and numbers\n",
    "    doc = re.sub(r'[^\\w\\s]', '', doc)\n",
    "    doc = re.sub(r'\\d+', '', doc)\n",
    "    # Normalization\n",
    "    doc = doc.lower()\n",
    "    # Tokenization\n",
    "    tokens = doc.split()\n",
    "    # Stop words removal\n",
    "    stop_words = set(stopwords.words('english'))\n",
    "    filtered_tokens = [word for word in tokens if word not in stop_words]\n",
    "    # Stemming\n",
    "    ps = PorterStemmer() \n",
    "    terms = []\n",
    "    for word in filtered_tokens:\n",
    "        terms.append(ps.stem(word))\n",
    "    doc = ' '.join(terms)\n",
    "    return doc\n",
    "\n",
    "\n",
    "def build_inverted_index(dir_path):\n",
    "    inverted_index = {}\n",
    "    doc_id = 0\n",
    "    for dir, _, filename in os.walk(dir_path):\n",
    "        for file in tqdm(filename):\n",
    "            # The script crashes processing .lws files\n",
    "            if file.endswith('.swp'):\n",
    "                continue\n",
    "            with open(os.path.join(dir, file), 'r', encoding='latin-1') as f:\n",
    "                # print(f\"processing: {f}\")\n",
    "                doc = f.read()\n",
    "            doc = preprocess(doc)\n",
    "            # Split the document into terms\n",
    "            terms = doc.split()\n",
    "            for term in terms:\n",
    "                if term not in inverted_index:\n",
    "                    inverted_index[term] = []\n",
    "                if doc_id not in inverted_index[term]:\n",
    "                    inverted_index[term].append(doc_id)\n",
    "            doc_id += 1\n",
    "    return inverted_index\n"
   ]
  },
  {
   "cell_type": "code",
   "execution_count": 5,
   "metadata": {},
   "outputs": [
    {
     "name": "stderr",
     "output_type": "stream",
     "text": [
      "100%|██████████| 452/452 [00:27<00:00, 16.57it/s]\n",
      "100%|██████████| 5/5 [00:00<00:00, 502.38it/s]\n",
      "100%|██████████| 19/19 [00:00<00:00, 28.34it/s]\n"
     ]
    }
   ],
   "source": [
    "dataset = '/home/dnlab/Desktop/stories'\n",
    "inverted_index = build_inverted_index(dataset)"
   ]
  },
  {
   "cell_type": "code",
   "execution_count": 6,
   "metadata": {},
   "outputs": [],
   "source": [
    "import json\n",
    "\n",
    "with open('inverted_index.json', 'w') as f:\n",
    "    json.dump(inverted_index, f)\n"
   ]
  },
  {
   "cell_type": "code",
   "execution_count": 12,
   "metadata": {},
   "outputs": [
    {
     "name": "stdout",
     "output_type": "stream",
     "text": [
      "{0, 298, 149, 407, 410}\n"
     ]
    }
   ],
   "source": [
    "def boolean_query_and(term1, term2, inverted_index):\n",
    "    # Retrieve the document IDs for each term in the query\n",
    "    docs_list1 = set(inverted_index[term1]) if term1 in inverted_index else set()\n",
    "    docs_list2 = set(inverted_index[term2]) if term2 in inverted_index else set()\n",
    "    # Compute the intersection of the document IDs\n",
    "    result_docs = docs_list1.intersection(docs_list2)\n",
    "    return result_docs\n",
    "\n",
    "term1 = 'ben'\n",
    "term2 = 'june'\n",
    "\n",
    "and_query = boolean_query_and(term1=term1, term2=term2, inverted_index=inverted_index)\n",
    "print(and_query)"
   ]
  },
  {
   "cell_type": "code",
   "execution_count": null,
   "metadata": {},
   "outputs": [],
   "source": []
  }
 ],
 "metadata": {
  "kernelspec": {
   "display_name": "base",
   "language": "python",
   "name": "python3"
  },
  "language_info": {
   "codemirror_mode": {
    "name": "ipython",
    "version": 3
   },
   "file_extension": ".py",
   "mimetype": "text/x-python",
   "name": "python",
   "nbconvert_exporter": "python",
   "pygments_lexer": "ipython3",
   "version": "3.9.13"
  },
  "orig_nbformat": 4
 },
 "nbformat": 4,
 "nbformat_minor": 2
}
