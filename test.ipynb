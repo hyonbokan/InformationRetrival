{
 "cells": [
  {
   "cell_type": "code",
   "execution_count": null,
   "metadata": {},
   "outputs": [],
   "source": [
    "import os\n",
    "import re\n",
    "from nltk.stem import PorterStemmer\n",
    "\n",
    "dataset = '/home/dnlab/Desktop/stories'\n",
    "\n",
    "def preprocess(doc):\n",
    "    # Remove punctuations and numbers\n",
    "    doc = re.sub(r'[^\\w\\s]', '', doc)\n",
    "    doc = re.sub(r'\\d+', '', doc)\n",
    "    # Normalization\n",
    "    doc = doc.lower()\n",
    "    # Stemming\n",
    "    ps = PorterStemmer() \n",
    "    terms = []\n",
    "    for word in doc.split():\n",
    "        terms.append(ps.stem(word))\n",
    "    doc = ' '.join(terms)\n",
    "    return doc\n",
    "\n",
    "def build_inverted_index(dir_path):\n",
    "    inverted_index = {}\n",
    "    doc_id = 0\n",
    "    for dir, _, filename in os.walk(dir_path):\n",
    "        for file in filename:\n",
    "            with open(os.path.join(dir_path, file), 'r') as f:\n",
    "                doc = f.read()\n",
    "            doc = preprocess(doc)\n",
    "            # Split the document into terms\n",
    "            terms = doc.split()\n",
    "            for term in terms:\n",
    "                if term not in inverted_index:\n",
    "                    inverted_index[term] = []\n",
    "                if doc_id not in inverted_index[term]:\n",
    "                    inverted_index[term].append(doc_id)\n",
    "            doc_id += 1\n",
    "    return inverted_index\n"
   ]
  }
 ],
 "metadata": {
  "language_info": {
   "name": "python"
  },
  "orig_nbformat": 4
 },
 "nbformat": 4,
 "nbformat_minor": 2
}
